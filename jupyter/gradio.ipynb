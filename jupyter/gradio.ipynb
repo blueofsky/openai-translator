{
 "cells": [
  {
   "metadata": {},
   "cell_type": "markdown",
   "source": [
    "## gradio 使用指南\n",
    "\n",
    "### 项目简介\n",
    "\n",
    "[Gradio](https://github.com/gradio-app/gradio)是一个开源 Python 包，可让您快速为机器学习模型、API 或任何任意 Python 函数构建演示或 Web 应用程序。然后，您可以使用 Gradio 的内置共享功能在短短几秒钟内共享演示或 Web 应用程序的链接。无需 JavaScript、CSS 或网络托管经验！\n",
    "\n",
    "支持：Python 3.8 或更高版本"
   ],
   "id": "749d147625af1769"
  },
  {
   "metadata": {},
   "cell_type": "code",
   "source": "%pip install gradio",
   "id": "214425e2342f9542",
   "outputs": [],
   "execution_count": null
  },
  {
   "metadata": {
    "ExecuteTime": {
     "end_time": "2024-07-01T01:41:08.778451Z",
     "start_time": "2024-07-01T01:41:05.261241Z"
    }
   },
   "cell_type": "code",
   "source": "import gradio as gr",
   "id": "4d79aaf2dc807200",
   "outputs": [],
   "execution_count": 1
  },
  {
   "metadata": {
    "ExecuteTime": {
     "end_time": "2024-07-01T01:41:11.070663Z",
     "start_time": "2024-07-01T01:41:11.062382Z"
    }
   },
   "cell_type": "code",
   "source": [
    "def greet(name, intensity):\n",
    "    return \"Hello, \" + name + \"!\" * int(intensity)"
   ],
   "id": "2ec849a085ef0462",
   "outputs": [],
   "execution_count": 2
  },
  {
   "metadata": {},
   "cell_type": "code",
   "source": [
    "demo1 = gr.Interface(\n",
    "    fn=greet,\n",
    "    inputs=[\"text\", \"slider\"],\n",
    "    outputs=[\"text\"],\n",
    ")\n",
    "# 默认端口：7860\n",
    "demo1.launch(server_port=7860)"
   ],
   "id": "acae29e3cbb7fcdc",
   "outputs": [],
   "execution_count": null
  },
  {
   "metadata": {},
   "cell_type": "code",
   "outputs": [],
   "execution_count": null,
   "source": "",
   "id": "350b44095651a2a2"
  }
 ],
 "metadata": {
  "kernelspec": {
   "display_name": "Python 3",
   "language": "python",
   "name": "python3"
  },
  "language_info": {
   "codemirror_mode": {
    "name": "ipython",
    "version": 2
   },
   "file_extension": ".py",
   "mimetype": "text/x-python",
   "name": "python",
   "nbconvert_exporter": "python",
   "pygments_lexer": "ipython2",
   "version": "2.7.6"
  }
 },
 "nbformat": 4,
 "nbformat_minor": 5
}
